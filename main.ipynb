{
 "cells": [
  {
   "cell_type": "markdown",
   "metadata": {},
   "source": [
    "## Imports"
   ]
  },
  {
   "cell_type": "code",
   "execution_count": 28,
   "metadata": {},
   "outputs": [],
   "source": [
    "import cv2\n",
    "import os\n",
    "import re\n",
    "import face_recognition"
   ]
  },
  {
   "cell_type": "markdown",
   "metadata": {},
   "source": [
    "## Takes video and detects face to put rectangle around it"
   ]
  },
  {
   "cell_type": "code",
   "execution_count": 20,
   "metadata": {},
   "outputs": [],
   "source": [
    "vid = cv2.VideoCapture(0)\n",
    "\n",
    "while True:\n",
    "    ret,frame = vid.read()\n",
    "    # gray = cv2.cvtColor(frame,cv2.COLOR_BGR2GRAY)\n",
    "    face_locations = face_recognition.face_locations(frame)\n",
    "    # print(face_locations)\n",
    "    if face_locations:\n",
    "        x, y, w, h = face_locations[0][0], face_locations[0][1], face_locations[0][2], face_locations[0][3]\n",
    "        rectangle_image = cv2.rectangle(frame, (h, x), (y, w), (255, 0, 0))\n",
    "        \n",
    "    # if face is not detected\n",
    "    else:\n",
    "        print(\"No faces detected!\")\n",
    "    # cv2.putText(frame,\"hello\",(h,y),2,1.0,(0,255,0))\n",
    "    cv2.imshow('Video',frame)\n",
    "    # exit on escape key\n",
    "    if cv2.waitKey(1) & 0xFF == 27:\n",
    "        break\n",
    "\n",
    "vid.release()\n",
    "cv2.destroyAllWindows()"
   ]
  },
  {
   "cell_type": "code",
   "execution_count": 31,
   "metadata": {},
   "outputs": [
    {
     "name": "stdout",
     "output_type": "stream",
     "text": [
      "Lionel Messi\n"
     ]
    }
   ],
   "source": [
    "images = os.listdir(\"images/\")\n",
    "# print(images)\n",
    "# using regex to remove extension name\n",
    "def cleanTitle(imageList):\n",
    "    nameList = []\n",
    "    for imageTitle in imageList:\n",
    "        clean = re.sub(\".jpg\",\"\",imageTitle)\n",
    "        nameList.append(clean)\n",
    "        print(clean)\n",
    "    return nameList\n",
    "nameList = cleanTitle(images)"
   ]
  }
 ],
 "metadata": {
  "kernelspec": {
   "display_name": "Python 3",
   "language": "python",
   "name": "python3"
  },
  "language_info": {
   "codemirror_mode": {
    "name": "ipython",
    "version": 3
   },
   "file_extension": ".py",
   "mimetype": "text/x-python",
   "name": "python",
   "nbconvert_exporter": "python",
   "pygments_lexer": "ipython3",
   "version": "3.11.0"
  },
  "orig_nbformat": 4
 },
 "nbformat": 4,
 "nbformat_minor": 2
}
