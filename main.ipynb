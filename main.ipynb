{
 "cells": [
  {
   "cell_type": "markdown",
   "metadata": {},
   "source": [
    "## Imports"
   ]
  },
  {
   "cell_type": "code",
   "execution_count": 27,
   "metadata": {},
   "outputs": [],
   "source": [
    "import cv2\n",
    "import os\n",
    "import re\n",
    "import face_recognition"
   ]
  },
  {
   "cell_type": "markdown",
   "metadata": {},
   "source": [
    "# // TO-DO\n",
    "1. ~~Take images from the image directory~~\n",
    "2. ~~encode all faces~~\n",
    "3. ~~compare known faces and unknown faces~~\n"
   ]
  },
  {
   "cell_type": "code",
   "execution_count": 28,
   "metadata": {},
   "outputs": [
    {
     "name": "stdout",
     "output_type": "stream",
     "text": [
      "['Kp Sharma Oli', 'Lionel Messi']\n"
     ]
    }
   ],
   "source": [
    "images = os.listdir(\"images/\")\n",
    "# print(images)\n",
    "# using regex to remove extension from name\n",
    "def cleanTitle(imageList):\n",
    "    nameList = []\n",
    "    for imageTitle in imageList:\n",
    "        clean = re.sub(\".jpg\",\"\",imageTitle)\n",
    "        nameList.append(clean)\n",
    "        # print(clean)\n",
    "    return nameList\n",
    "nameList = cleanTitle(images)\n",
    "print(nameList)"
   ]
  },
  {
   "cell_type": "code",
   "execution_count": 29,
   "metadata": {},
   "outputs": [
    {
     "data": {
      "text/plain": [
       "[array([-1.65940985e-01,  6.07344434e-02,  3.08572333e-02, -5.21127284e-02,\n",
       "        -1.26426727e-01, -8.23946223e-02, -2.97617111e-02, -1.24859437e-01,\n",
       "         1.47259474e-01, -1.19517602e-01,  1.30405918e-01, -8.47090855e-02,\n",
       "        -2.05322579e-01, -1.46845523e-02,  5.79485968e-02,  1.20186485e-01,\n",
       "        -1.54346600e-01, -1.43645346e-01, -1.01162903e-01, -1.32547677e-01,\n",
       "        -4.95831482e-03,  2.21173018e-02, -2.24217568e-02,  1.19064385e-02,\n",
       "        -5.54131940e-02, -3.48443419e-01, -7.49368072e-02, -1.06453680e-01,\n",
       "         7.71119595e-02, -7.39233792e-02, -4.81789038e-02,  3.76352519e-02,\n",
       "        -1.45585313e-01, -1.11485943e-01,  1.26214260e-02,  1.37526959e-01,\n",
       "        -4.33448143e-02, -6.04408160e-02,  1.71016738e-01, -5.41122891e-02,\n",
       "        -1.72163472e-01, -2.00753175e-02,  5.68939224e-02,  1.97762430e-01,\n",
       "         2.15157032e-01,  5.67423776e-02,  1.32556166e-02, -6.64421394e-02,\n",
       "         7.07881302e-02, -2.79726177e-01,  9.17555243e-02,  1.18502371e-01,\n",
       "         6.77344576e-02,  7.74330348e-02,  1.06378764e-01, -1.23585910e-01,\n",
       "        -2.79657543e-04,  3.18370163e-02, -1.36200726e-01,  2.16693562e-02,\n",
       "         1.44528180e-01, -1.00425631e-01, -6.12124950e-02, -2.96250694e-02,\n",
       "         2.20456108e-01,  1.24161765e-01, -5.52252978e-02, -8.45712498e-02,\n",
       "         1.23404860e-01, -1.92551449e-01, -1.16188720e-01, -1.41849434e-02,\n",
       "        -5.19150309e-02, -1.18075535e-01, -2.87300885e-01,  5.40449321e-02,\n",
       "         3.48315895e-01,  1.47761077e-01, -1.41861573e-01,  5.29153123e-02,\n",
       "        -5.25029823e-02, -2.33590789e-02,  1.03671238e-01,  4.30652276e-02,\n",
       "        -7.68395066e-02, -1.88406631e-02, -7.96869323e-02,  4.98506166e-02,\n",
       "         1.70282021e-01, -3.03452667e-02,  1.05570303e-04,  1.67899325e-01,\n",
       "         3.36332805e-03,  3.98462825e-02,  6.24820739e-02,  1.10802315e-01,\n",
       "        -6.96825236e-02, -5.80590889e-02, -9.57002267e-02, -5.00662252e-02,\n",
       "         2.15014964e-01, -5.93341440e-02,  2.08205059e-02,  1.31226406e-01,\n",
       "        -2.01264381e-01,  1.49716243e-01, -7.67615438e-02, -1.46628534e-02,\n",
       "         3.13843712e-02, -3.44237462e-02, -1.03094568e-02, -9.39953420e-03,\n",
       "         1.54632345e-01, -1.74911305e-01,  1.52527988e-01,  2.02948913e-01,\n",
       "        -9.13513601e-02,  1.60650983e-01,  4.05034572e-02,  5.17487898e-02,\n",
       "        -4.37213108e-04, -1.94134880e-02, -1.81837410e-01, -1.06557913e-01,\n",
       "         1.95293091e-02,  8.38102177e-02,  3.92366666e-03,  1.07066073e-01]),\n",
       " array([-1.16668582e-01,  1.34715572e-01, -2.58762334e-02, -7.92254880e-02,\n",
       "        -2.14211434e-01,  9.63257849e-02, -4.12821174e-02, -5.74067347e-02,\n",
       "         1.24375097e-01, -9.63698141e-04,  2.14144602e-01, -3.78503948e-02,\n",
       "        -3.27502191e-01,  9.87111125e-03, -8.12798738e-02,  1.34991944e-01,\n",
       "        -1.84318632e-01,  1.06609836e-02, -1.11784309e-01, -1.88844785e-01,\n",
       "        -3.12362355e-03,  9.60799009e-02,  1.67285595e-02,  8.05904642e-02,\n",
       "        -1.56136706e-01, -2.04587385e-01,  7.60999508e-03, -1.79261491e-01,\n",
       "         1.05374381e-01, -1.70792967e-01, -4.12095338e-02,  8.01110342e-02,\n",
       "        -9.68411118e-02, -7.02583790e-02,  1.81216057e-02,  3.10870018e-02,\n",
       "        -5.51149063e-02, -1.07153080e-01,  1.82730794e-01, -2.89259236e-02,\n",
       "        -6.37907460e-02,  4.57198434e-02,  9.64207575e-02,  2.75535882e-01,\n",
       "         1.70872524e-01, -4.95278602e-03,  2.62046680e-02, -6.14374802e-02,\n",
       "         2.15264067e-01, -2.49728754e-01,  1.10565357e-01,  1.04435004e-01,\n",
       "         1.89585879e-01,  9.06676129e-02,  1.25517473e-02, -2.30352953e-01,\n",
       "        -3.17839272e-02,  1.65351614e-01, -2.41448879e-01,  8.39582384e-02,\n",
       "         1.09845221e-01,  9.94220749e-03, -8.98466036e-02, -1.14610516e-01,\n",
       "         2.12524548e-01,  2.03267604e-01, -1.50983542e-01, -1.59153342e-01,\n",
       "         1.36655539e-01, -1.53281584e-01, -6.26222044e-02,  4.12268341e-02,\n",
       "        -1.45577118e-01, -1.13206387e-01, -2.12152660e-01,  1.19061649e-01,\n",
       "         2.84427822e-01,  1.98214859e-01, -1.52368039e-01, -5.66460453e-02,\n",
       "        -6.72540367e-02, -4.12973855e-03, -4.85992543e-02,  3.02480236e-02,\n",
       "        -1.47302538e-01, -9.35276598e-02,  6.04373543e-03,  1.51608679e-02,\n",
       "         1.22079372e-01, -3.86592299e-02, -4.05240394e-02,  2.64465302e-01,\n",
       "         1.01811916e-01, -3.19810957e-02,  2.90649012e-02,  4.66575176e-02,\n",
       "        -1.97486401e-01, -6.22393601e-02, -5.69172949e-02,  1.18784802e-02,\n",
       "         1.45051684e-02, -1.71433240e-01,  6.97215497e-02,  9.83057022e-02,\n",
       "        -1.75320923e-01,  2.37525403e-01, -5.90380654e-02,  2.60777436e-02,\n",
       "         1.34762712e-02,  2.95301899e-04, -8.18128437e-02,  7.77225592e-04,\n",
       "         2.37882033e-01, -2.28185490e-01,  2.14737996e-01,  9.75359976e-02,\n",
       "         1.10135548e-01,  1.53621703e-01,  8.67522955e-02,  1.09839931e-01,\n",
       "         2.35994030e-02,  6.25255257e-02, -1.06512159e-01, -1.17566183e-01,\n",
       "         1.15602106e-01, -1.26787007e-01,  1.51475184e-02,  6.11752719e-02])]"
      ]
     },
     "execution_count": 29,
     "metadata": {},
     "output_type": "execute_result"
    }
   ],
   "source": [
    "def get_face_encoding(imageList):\n",
    "    encoded_faces = []\n",
    "    for imageTitle in imageList:\n",
    "        located_face = face_recognition.load_image_file(f'images/{imageTitle}')\n",
    "        encoded_face = face_recognition.face_encodings(located_face)[0]\n",
    "        encoded_faces.append(encoded_face)\n",
    "    # print(encoded_faces)\n",
    "    return encoded_faces\n",
    "# gets ecoding and stores to a list \n",
    "get_face_encoding(images)"
   ]
  },
  {
   "cell_type": "code",
   "execution_count": 30,
   "metadata": {},
   "outputs": [],
   "source": [
    "known_faces_encoding = get_face_encoding(images)\n",
    "nameList = cleanTitle(images)"
   ]
  },
  {
   "cell_type": "markdown",
   "metadata": {},
   "source": [
    "## Takes video and detects face to put rectangle around it"
   ]
  },
  {
   "cell_type": "code",
   "execution_count": 32,
   "metadata": {},
   "outputs": [],
   "source": [
    "vid = cv2.VideoCapture(0)\n",
    "\n",
    "while True:\n",
    "    ret,frame = vid.read()\n",
    "    unkown_face_location = face_recognition.face_locations(frame)\n",
    "    if len(unkown_face_location)>0:\n",
    "        unkown_face_encoding = face_recognition.face_encodings(frame,unkown_face_location)[0]\n",
    "        name = \"Unknown\" \n",
    "        face_compare = face_recognition.compare_faces(known_faces_encoding,unkown_face_encoding)\n",
    "        # using list comprehension to find out the indeces of true value\n",
    "        matching_indexes = [i for i in range(len(face_compare)) if face_compare[i]]\n",
    "        # drawing rectangle around the face\n",
    "        for bool in face_compare:\n",
    "            x, y, w, h = unkown_face_location[0][0], unkown_face_location[0][1], unkown_face_location[0][2], unkown_face_location[0][3]\n",
    "            rectangle_image = cv2.rectangle(frame, (h, x), (y, w), (255, 0, 0))\n",
    "            # exception handling for undetected faces\n",
    "            try:\n",
    "                name = nameList[matching_indexes[0]]\n",
    "            except:\n",
    "                name\n",
    "            cv2.putText(frame,name,(h, y - 10),cv2.FONT_HERSHEY_COMPLEX_SMALL,1,(255,255,0),2)\n",
    "                    \n",
    "    # if face is not detected\n",
    "    else:\n",
    "        print(\"No faces detected!\")\n",
    "    cv2.imshow('Video',frame)\n",
    "        # exit on escape key\n",
    "    if cv2.waitKey(1) & 0xFF == 27:\n",
    "        break\n",
    "vid.release()\n",
    "cv2.destroyAllWindows()"
   ]
  },
  {
   "cell_type": "markdown",
   "metadata": {},
   "source": [
    "### Code for testing out images"
   ]
  },
  {
   "cell_type": "code",
   "execution_count": null,
   "metadata": {},
   "outputs": [],
   "source": [
    "image = cv2.imread(\"images/Lionel Messi.jpg\")\n",
    "cv2.imshow(\"messi\", image)\n",
    "cv2.waitKey(0)\n",
    "cv2.destroyAllWindows()"
   ]
  }
 ],
 "metadata": {
  "kernelspec": {
   "display_name": "Python 3",
   "language": "python",
   "name": "python3"
  },
  "language_info": {
   "codemirror_mode": {
    "name": "ipython",
    "version": 3
   },
   "file_extension": ".py",
   "mimetype": "text/x-python",
   "name": "python",
   "nbconvert_exporter": "python",
   "pygments_lexer": "ipython3",
   "version": "3.11.0"
  },
  "orig_nbformat": 4
 },
 "nbformat": 4,
 "nbformat_minor": 2
}
