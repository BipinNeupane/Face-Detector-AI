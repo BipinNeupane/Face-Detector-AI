{
 "cells": [
  {
   "cell_type": "markdown",
   "metadata": {},
   "source": [
    "## Imports"
   ]
  },
  {
   "cell_type": "code",
   "execution_count": 2,
   "metadata": {},
   "outputs": [],
   "source": [
    "import cv2\n",
    "import os\n",
    "import re\n",
    "import face_recognition"
   ]
  },
  {
   "cell_type": "markdown",
   "metadata": {},
   "source": [
    "# // TO-DO\n",
    "1. Take images from the image directory\n",
    "2. encode all faces\n",
    "3. put in a dicitonary and compare faces using loop"
   ]
  },
  {
   "cell_type": "markdown",
   "metadata": {},
   "source": [
    "## Takes video and detects face to put rectangle around it"
   ]
  },
  {
   "cell_type": "code",
   "execution_count": 20,
   "metadata": {},
   "outputs": [],
   "source": [
    "vid = cv2.VideoCapture(0)\n",
    "\n",
    "while True:\n",
    "    ret,frame = vid.read()\n",
    "    # gray = cv2.cvtColor(frame,cv2.COLOR_BGR2GRAY)\n",
    "    face_locations = face_recognition.face_locations(frame)\n",
    "    # print(face_locations)\n",
    "    if face_locations:\n",
    "        x, y, w, h = face_locations[0][0], face_locations[0][1], face_locations[0][2], face_locations[0][3]\n",
    "        rectangle_image = cv2.rectangle(frame, (h, x), (y, w), (255, 0, 0))\n",
    "        \n",
    "    # if face is not detected\n",
    "    else:\n",
    "        print(\"No faces detected!\")\n",
    "    # cv2.putText(frame,\"hello\",(h,y),2,1.0,(0,255,0))\n",
    "    cv2.imshow('Video',frame)\n",
    "    # exit on escape key\n",
    "    if cv2.waitKey(1) & 0xFF == 27:\n",
    "        break\n",
    "\n",
    "vid.release()\n",
    "cv2.destroyAllWindows()"
   ]
  },
  {
   "cell_type": "code",
   "execution_count": 12,
   "metadata": {},
   "outputs": [
    {
     "name": "stdout",
     "output_type": "stream",
     "text": [
      "['Kp Sharma Oli.jpg', 'Lionel Messi.jpg']\n",
      "['Kp Sharma Oli', 'Lionel Messi']\n"
     ]
    }
   ],
   "source": [
    "images = os.listdir(\"images/\")\n",
    "# print(images)\n",
    "# using regex to remove extension from name\n",
    "def cleanTitle(imageList):\n",
    "    nameList = []\n",
    "    for imageTitle in imageList:\n",
    "        clean = re.sub(\".jpg\",\"\",imageTitle)\n",
    "        nameList.append(clean)\n",
    "        # print(clean)\n",
    "    return nameList\n",
    "nameList = cleanTitle(images)\n",
    "print(nameList)"
   ]
  },
  {
   "cell_type": "code",
   "execution_count": 45,
   "metadata": {},
   "outputs": [
    {
     "data": {
      "text/plain": [
       "-0.16594098508358002"
      ]
     },
     "execution_count": 45,
     "metadata": {},
     "output_type": "execute_result"
    }
   ],
   "source": [
    "def get_face_encoding(imageList):\n",
    "    encoded_faces = []\n",
    "    for imageTitle in imageList:\n",
    "        located_face = face_recognition.load_image_file(f'images/{imageTitle}')\n",
    "        encoded_face = face_recognition.face_encodings(located_face)[0]\n",
    "        encoded_faces.append(encoded_face)\n",
    "    # print(encoded_faces)\n",
    "    return encoded_faces\n",
    "# gets ecoding and stores to a list\n",
    "get_face_encoding(images)"
   ]
  },
  {
   "cell_type": "markdown",
   "metadata": {},
   "source": [
    "### Code for testing out images"
   ]
  },
  {
   "cell_type": "code",
   "execution_count": 8,
   "metadata": {},
   "outputs": [],
   "source": [
    "image = cv2.imread(\"images/Lionel Messi.jpg\")\n",
    "cv2.imshow(\"messi\", image)\n",
    "cv2.waitKey(0)\n",
    "cv2.destroyAllWindows()"
   ]
  }
 ],
 "metadata": {
  "kernelspec": {
   "display_name": "Python 3",
   "language": "python",
   "name": "python3"
  },
  "language_info": {
   "codemirror_mode": {
    "name": "ipython",
    "version": 3
   },
   "file_extension": ".py",
   "mimetype": "text/x-python",
   "name": "python",
   "nbconvert_exporter": "python",
   "pygments_lexer": "ipython3",
   "version": "3.11.0"
  },
  "orig_nbformat": 4
 },
 "nbformat": 4,
 "nbformat_minor": 2
}
